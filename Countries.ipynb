{
  "nbformat": 4,
  "nbformat_minor": 0,
  "metadata": {
    "colab": {
      "name": "Countries.ipynb",
      "provenance": [],
      "collapsed_sections": []
    },
    "kernelspec": {
      "name": "python3",
      "display_name": "Python 3"
    },
    "language_info": {
      "name": "python"
    }
  },
  "cells": [
    {
      "cell_type": "code",
      "metadata": {
        "colab": {
          "base_uri": "https://localhost:8080/"
        },
        "id": "BMDsK-Tyfh0A",
        "outputId": "5ff3daaa-a97f-4c13-a432-f9ad72c487e9"
      },
      "source": [
        "import pandas as pd\n",
        "\n",
        "url = \"https://raw.githubusercontent.com/edlich/eternalrepo/master/DS-WAHLFACH/countries.csv\"\n",
        "df = pd.read_csv(url)\n",
        "\n",
        "print (df)\n",
        "print (df.describe()) \n",
        "\n"
      ],
      "execution_count": 52,
      "outputs": [
        {
          "output_type": "stream",
          "text": [
            "       Name     People     Area   BIP Currency\n",
            "0   Germany   82521653   357385  3466      EUR\n",
            "1     Japan  126045000   377835  4938      YEN\n",
            "2    Canada   36503097  9984670  1529      CAD\n",
            "3     Italy   60501718   301338  1850      EUR\n",
            "4  Brazilia  208360000  8515770  1798     REAL\n",
            "             People          Area         BIP\n",
            "count  5.000000e+00  5.000000e+00     5.00000\n",
            "mean   1.027863e+08  3.907400e+06  2716.20000\n",
            "std    6.759970e+07  4.904957e+06  1457.86083\n",
            "min    3.650310e+07  3.013380e+05  1529.00000\n",
            "25%    6.050172e+07  3.573850e+05  1798.00000\n",
            "50%    8.252165e+07  3.778350e+05  1850.00000\n",
            "75%    1.260450e+08  8.515770e+06  3466.00000\n",
            "max    2.083600e+08  9.984670e+06  4938.00000\n"
          ],
          "name": "stdout"
        }
      ]
    },
    {
      "cell_type": "code",
      "metadata": {
        "colab": {
          "base_uri": "https://localhost:8080/"
        },
        "id": "BG33Bdtmi6QO",
        "outputId": "8a1e56ce-9ba5-4115-f329-c6fb5536445c"
      },
      "source": [
        "df_last_4 = df.tail(4)\n",
        "\n",
        "print(df_last_4)\n"
      ],
      "execution_count": 53,
      "outputs": [
        {
          "output_type": "stream",
          "text": [
            "       Name     People     Area   BIP Currency\n",
            "1     Japan  126045000   377835  4938      YEN\n",
            "2    Canada   36503097  9984670  1529      CAD\n",
            "3     Italy   60501718   301338  1850      EUR\n",
            "4  Brazilia  208360000  8515770  1798     REAL\n"
          ],
          "name": "stdout"
        }
      ]
    },
    {
      "cell_type": "code",
      "metadata": {
        "colab": {
          "base_uri": "https://localhost:8080/"
        },
        "id": "m7UKhPPajD6x",
        "outputId": "a0eb8915-a181-4965-88b5-57cbd9bc6584"
      },
      "source": [
        "eur = df[df['Currency'].str.match('EUR')]\n",
        "print (eur)"
      ],
      "execution_count": 54,
      "outputs": [
        {
          "output_type": "stream",
          "text": [
            "      Name    People    Area   BIP Currency\n",
            "0  Germany  82521653  357385  3466      EUR\n",
            "3    Italy  60501718  301338  1850      EUR\n"
          ],
          "name": "stdout"
        }
      ]
    },
    {
      "cell_type": "code",
      "metadata": {
        "colab": {
          "base_uri": "https://localhost:8080/",
          "height": 204
        },
        "id": "N7Z2XjeijZ1i",
        "outputId": "674b441d-971a-424b-d587-7fba598404d5"
      },
      "source": [
        "df.loc[:, [\"Name\", \"Currency\"]]"
      ],
      "execution_count": 17,
      "outputs": [
        {
          "output_type": "execute_result",
          "data": {
            "text/html": [
              "<div>\n",
              "<style scoped>\n",
              "    .dataframe tbody tr th:only-of-type {\n",
              "        vertical-align: middle;\n",
              "    }\n",
              "\n",
              "    .dataframe tbody tr th {\n",
              "        vertical-align: top;\n",
              "    }\n",
              "\n",
              "    .dataframe thead th {\n",
              "        text-align: right;\n",
              "    }\n",
              "</style>\n",
              "<table border=\"1\" class=\"dataframe\">\n",
              "  <thead>\n",
              "    <tr style=\"text-align: right;\">\n",
              "      <th></th>\n",
              "      <th>Name</th>\n",
              "      <th>Currency</th>\n",
              "    </tr>\n",
              "  </thead>\n",
              "  <tbody>\n",
              "    <tr>\n",
              "      <th>0</th>\n",
              "      <td>Germany</td>\n",
              "      <td>EUR</td>\n",
              "    </tr>\n",
              "    <tr>\n",
              "      <th>1</th>\n",
              "      <td>Japan</td>\n",
              "      <td>YEN</td>\n",
              "    </tr>\n",
              "    <tr>\n",
              "      <th>2</th>\n",
              "      <td>Canada</td>\n",
              "      <td>CAD</td>\n",
              "    </tr>\n",
              "    <tr>\n",
              "      <th>3</th>\n",
              "      <td>Italy</td>\n",
              "      <td>EUR</td>\n",
              "    </tr>\n",
              "    <tr>\n",
              "      <th>4</th>\n",
              "      <td>Brazilia</td>\n",
              "      <td>REAL</td>\n",
              "    </tr>\n",
              "  </tbody>\n",
              "</table>\n",
              "</div>"
            ],
            "text/plain": [
              "       Name Currency\n",
              "0   Germany      EUR\n",
              "1     Japan      YEN\n",
              "2    Canada      CAD\n",
              "3     Italy      EUR\n",
              "4  Brazilia     REAL"
            ]
          },
          "metadata": {
            "tags": []
          },
          "execution_count": 17
        }
      ]
    },
    {
      "cell_type": "code",
      "metadata": {
        "colab": {
          "base_uri": "https://localhost:8080/"
        },
        "id": "_XkoLQkYju7g",
        "outputId": "b5469288-acec-4d11-9834-aa0f1bd1b8a0"
      },
      "source": [
        "bip = df[df['BIP'] >= 2000]\n",
        "print (bip)"
      ],
      "execution_count": 55,
      "outputs": [
        {
          "output_type": "stream",
          "text": [
            "      Name     People    Area   BIP Currency\n",
            "0  Germany   82521653  357385  3466      EUR\n",
            "1    Japan  126045000  377835  4938      YEN\n"
          ],
          "name": "stdout"
        }
      ]
    },
    {
      "cell_type": "code",
      "metadata": {
        "colab": {
          "base_uri": "https://localhost:8080/"
        },
        "id": "XwW22DnilGov",
        "outputId": "05f241b3-f25a-4347-dbed-42b68bffb162"
      },
      "source": [
        "inhabitants = df[df['People'].between(50000000, 150000000)]\n",
        "print (inhabitants)"
      ],
      "execution_count": 56,
      "outputs": [
        {
          "output_type": "stream",
          "text": [
            "      Name     People    Area   BIP Currency\n",
            "0  Germany   82521653  357385  3466      EUR\n",
            "1    Japan  126045000  377835  4938      YEN\n",
            "3    Italy   60501718  301338  1850      EUR\n"
          ],
          "name": "stdout"
        }
      ]
    },
    {
      "cell_type": "markdown",
      "metadata": {
        "id": "9Ulw-DS7omH3"
      },
      "source": [
        ""
      ]
    },
    {
      "cell_type": "code",
      "metadata": {
        "colab": {
          "base_uri": "https://localhost:8080/"
        },
        "id": "i8gVVbommR1m",
        "outputId": "24be8e40-ecae-4260-db62-9b0b6b911277"
      },
      "source": [
        "df = df.rename(columns ={'BIP':'Bip'})\n",
        "print (df)\n"
      ],
      "execution_count": 57,
      "outputs": [
        {
          "output_type": "stream",
          "text": [
            "       Name     People     Area   Bip Currency\n",
            "0   Germany   82521653   357385  3466      EUR\n",
            "1     Japan  126045000   377835  4938      YEN\n",
            "2    Canada   36503097  9984670  1529      CAD\n",
            "3     Italy   60501718   301338  1850      EUR\n",
            "4  Brazilia  208360000  8515770  1798     REAL\n"
          ],
          "name": "stdout"
        }
      ]
    },
    {
      "cell_type": "code",
      "metadata": {
        "colab": {
          "base_uri": "https://localhost:8080/"
        },
        "id": "xYAdgYYBnNdV",
        "outputId": "e56f0d55-016c-45f2-c4bc-1f7bfe2ef761"
      },
      "source": [
        "sumBip = df['Bip'].sum()\n",
        "print (sumBip)"
      ],
      "execution_count": 62,
      "outputs": [
        {
          "output_type": "stream",
          "text": [
            "13581\n"
          ],
          "name": "stdout"
        }
      ]
    },
    {
      "cell_type": "code",
      "metadata": {
        "colab": {
          "base_uri": "https://localhost:8080/"
        },
        "id": "pmsD73M4o2Jq",
        "outputId": "8991b895-9358-497e-9efe-9a7f1b1a98e6"
      },
      "source": [
        "averagePeople = df['People'].mean()\n",
        "print (averagePeople)"
      ],
      "execution_count": 61,
      "outputs": [
        {
          "output_type": "stream",
          "text": [
            "102786293.6\n"
          ],
          "name": "stdout"
        }
      ]
    },
    {
      "cell_type": "code",
      "metadata": {
        "colab": {
          "base_uri": "https://localhost:8080/",
          "height": 204
        },
        "id": "3nXvYNnSpJxQ",
        "outputId": "875bcca8-e13e-420a-db82-89ab63182666"
      },
      "source": [
        "df.sort_values(by=\"Name\")"
      ],
      "execution_count": 58,
      "outputs": [
        {
          "output_type": "execute_result",
          "data": {
            "text/html": [
              "<div>\n",
              "<style scoped>\n",
              "    .dataframe tbody tr th:only-of-type {\n",
              "        vertical-align: middle;\n",
              "    }\n",
              "\n",
              "    .dataframe tbody tr th {\n",
              "        vertical-align: top;\n",
              "    }\n",
              "\n",
              "    .dataframe thead th {\n",
              "        text-align: right;\n",
              "    }\n",
              "</style>\n",
              "<table border=\"1\" class=\"dataframe\">\n",
              "  <thead>\n",
              "    <tr style=\"text-align: right;\">\n",
              "      <th></th>\n",
              "      <th>Name</th>\n",
              "      <th>People</th>\n",
              "      <th>Area</th>\n",
              "      <th>Bip</th>\n",
              "      <th>Currency</th>\n",
              "    </tr>\n",
              "  </thead>\n",
              "  <tbody>\n",
              "    <tr>\n",
              "      <th>4</th>\n",
              "      <td>Brazilia</td>\n",
              "      <td>208360000</td>\n",
              "      <td>8515770</td>\n",
              "      <td>1798</td>\n",
              "      <td>REAL</td>\n",
              "    </tr>\n",
              "    <tr>\n",
              "      <th>2</th>\n",
              "      <td>Canada</td>\n",
              "      <td>36503097</td>\n",
              "      <td>9984670</td>\n",
              "      <td>1529</td>\n",
              "      <td>CAD</td>\n",
              "    </tr>\n",
              "    <tr>\n",
              "      <th>0</th>\n",
              "      <td>Germany</td>\n",
              "      <td>82521653</td>\n",
              "      <td>357385</td>\n",
              "      <td>3466</td>\n",
              "      <td>EUR</td>\n",
              "    </tr>\n",
              "    <tr>\n",
              "      <th>3</th>\n",
              "      <td>Italy</td>\n",
              "      <td>60501718</td>\n",
              "      <td>301338</td>\n",
              "      <td>1850</td>\n",
              "      <td>EUR</td>\n",
              "    </tr>\n",
              "    <tr>\n",
              "      <th>1</th>\n",
              "      <td>Japan</td>\n",
              "      <td>126045000</td>\n",
              "      <td>377835</td>\n",
              "      <td>4938</td>\n",
              "      <td>YEN</td>\n",
              "    </tr>\n",
              "  </tbody>\n",
              "</table>\n",
              "</div>"
            ],
            "text/plain": [
              "       Name     People     Area   Bip Currency\n",
              "4  Brazilia  208360000  8515770  1798     REAL\n",
              "2    Canada   36503097  9984670  1529      CAD\n",
              "0   Germany   82521653   357385  3466      EUR\n",
              "3     Italy   60501718   301338  1850      EUR\n",
              "1     Japan  126045000   377835  4938      YEN"
            ]
          },
          "metadata": {
            "tags": []
          },
          "execution_count": 58
        }
      ]
    },
    {
      "cell_type": "code",
      "metadata": {
        "colab": {
          "base_uri": "https://localhost:8080/"
        },
        "id": "x90zu2Oqpbi9",
        "outputId": "d50c5f39-c704-4c7e-bf3b-b812ecfb530b"
      },
      "source": [
        "#changeArea = df.loc[df['Area'] > 1000000, 'Area'] = 'BIG' \n",
        "#df.loc[df['Area'] < 1000000, 'Area'] = \"SMALL\"\n",
        "df['Area'] = df['Area'].apply(lambda x: 'BIG' if x > 1000000 else 'SMALL')\n",
        "\n",
        "print (df)"
      ],
      "execution_count": 49,
      "outputs": [
        {
          "output_type": "stream",
          "text": [
            "       Name     People   Area   BIP Currency\n",
            "0   Germany   82521653  SMALL  3466      EUR\n",
            "1     Japan  126045000  SMALL  4938      YEN\n",
            "2    Canada   36503097    BIG  1529      CAD\n",
            "3     Italy   60501718  SMALL  1850      EUR\n",
            "4  Brazilia  208360000    BIG  1798     REAL\n"
          ],
          "name": "stdout"
        }
      ]
    }
  ]
}