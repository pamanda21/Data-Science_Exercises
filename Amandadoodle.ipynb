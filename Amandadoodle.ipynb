{
  "nbformat": 4,
  "nbformat_minor": 0,
  "metadata": {
    "colab": {
      "name": "Amandadoodle.ipynb",
      "provenance": [],
      "collapsed_sections": [
        "NpVQYQHtmfaa"
      ],
      "toc_visible": true
    },
    "kernelspec": {
      "name": "python3",
      "display_name": "Python 3"
    },
    "language_info": {
      "name": "python"
    }
  },
  "cells": [
    {
      "cell_type": "markdown",
      "metadata": {
        "id": "NpVQYQHtmfaa"
      },
      "source": [
        "\n",
        "# Amanda Liu Python Doodle"
      ]
    },
    {
      "cell_type": "code",
      "metadata": {
        "colab": {
          "base_uri": "https://localhost:8080/"
        },
        "id": "sEzmniOF8LKN",
        "outputId": "d2cc0198-bdb1-42ed-9455-665799124ed5"
      },
      "source": [
        "import numpy as np\n",
        "from matplotlib import pyplot as plt\n",
        "\n",
        "#this is a test\n",
        "print (\"Hello Amanda\")\n",
        "answer = 22*23\n",
        "print (answer)\n",
        "\n",
        "aNumber = 42\n",
        "aNumber += 10\n",
        "print (aNumber)\n",
        "\n",
        "for i in range(10):\n",
        "  print (i)\n",
        "\n",
        "for item in [\"bla\", \"buu\"]:\n",
        "  print (item)\n",
        "\n",
        "count = 0\n",
        "sentence = \"ich bin ne fette kuh\"\n",
        "while count < 5:\n",
        "   print(count)\n",
        "   count += 1\n",
        "else:\n",
        "    print (sentence)\n",
        "\n",
        "class MyClass(object):\n",
        "  x=1\n",
        "  foo = \"initial\"\n",
        "  \n",
        "  def __init__(self, par):\n",
        "    self.foo = par\n",
        "\n",
        "  def a_method(self): # always use self, other args...\n",
        "    self.x += 41\n",
        "    print(self.x, \"|\", self.foo)\n",
        "\n",
        "m = MyClass(\"changing\")\n",
        "m.a_method()"
      ],
      "execution_count": null,
      "outputs": [
        {
          "output_type": "stream",
          "text": [
            "Hello Amanda\n",
            "506\n",
            "52\n",
            "0\n",
            "1\n",
            "2\n",
            "3\n",
            "4\n",
            "5\n",
            "6\n",
            "7\n",
            "8\n",
            "9\n",
            "bla\n",
            "buu\n",
            "0\n",
            "1\n",
            "2\n",
            "3\n",
            "4\n",
            "ich bin ne fette kuh\n",
            "42 | changing\n"
          ],
          "name": "stdout"
        }
      ]
    }
  ]
}